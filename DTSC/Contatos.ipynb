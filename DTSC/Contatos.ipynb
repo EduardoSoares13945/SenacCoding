{
 "cells": [
  {
   "cell_type": "code",
   "execution_count": null,
   "id": "11c577c4",
   "metadata": {},
   "outputs": [
    {
     "name": "stdout",
     "output_type": "stream",
     "text": [
      "Bem-vindo ao gerenciador de contatos!\n",
      "Escolha uma opção:\n",
      "1 - Cadastrar contato\n",
      "2 - Listar contatos\n",
      "3 - Atualizar contato\n",
      "4 - Excluir contato\n",
      "Você escolheu listar os contatos.\n",
      "1. Nome: Igor, Telefone: 81966473829\n"
     ]
    }
   ],
   "source": [
    "if not contatos:\n",
    "    contatos = []\n",
    "\n",
    "print(\"Bem-vindo ao gerenciador de contatos!\")\n",
    "print(\"Escolha uma opção:\")\n",
    "print(\"1 - Cadastrar contato\")\n",
    "print(\"2 - Listar contatos\")\n",
    "print(\"3 - Atualizar contato\")\n",
    "print(\"4 - Excluir contato\")\n",
    "opcao = input(\"Digite o número da opção desejada: \")\n",
    "\n",
    "if opcao == '1':\n",
    "    print(\"Você escolheu cadastrar um contato.\")\n",
    "    nome = input(\"Digite o nome do contato: \")\n",
    "    telefone = input(\"Digite o telefone do contato: \")\n",
    "    email = input(\"Digite o email do contato (opcional): \")\n",
    "    if not email:\n",
    "        email = \"Não informado\"\n",
    "    contatos.append((nome, telefone, email))\n",
    "    print(f\"Contato {nome} adicionado com sucesso!\")\n",
    "\n",
    "if opcao == '2':\n",
    "    print(\"Você escolheu listar os contatos.\")\n",
    "    if not contatos:\n",
    "        print(\"Nenhum contato cadastrado.\")\n",
    "    else:\n",
    "        for i, (nome, telefone, email) in enumerate(contatos, start=1):\n",
    "            print(f\"{i}. Nome: {nome}, Telefone: {telefone}, Email: {email}\")\n",
    "\n",
    "if opcao == '3':\n",
    "    print(\"Você escolheu atualizar um contato.\")\n",
    "    if not contatos:\n",
    "        print(\"Nenhum contato cadastrado para atualizar.\")\n",
    "    else:\n",
    "        for i, (nome, telefone, email) in enumerate(contatos, start=1):\n",
    "            print(f\"{i}. Nome: {nome}, Telefone: {telefone}, Email: {email}\")\n",
    "        indice = int(input(\"Digite o número do contato que deseja atualizar: \")) - 1\n",
    "        if 0 <= indice < len(contatos):\n",
    "            novo_nome = input(\"Digite o novo nome do contato: \")\n",
    "            novo_telefone = input(\"Digite o novo telefone do contato: \")\n",
    "            novo_email = input(\"Digite o novo email do contato (opcional): \")\n",
    "            if not novo_email:\n",
    "                novo_email = \"Não informado\"\n",
    "            contatos[indice] = (novo_nome, novo_telefone, novo_email)\n",
    "            print(f\"Contato atualizado com sucesso: {novo_nome}, {novo_telefone}, {novo_email}\")\n",
    "        else:\n",
    "            print(\"Índice inválido.\")\n",
    "\n",
    "if opcao == '4':\n",
    "    print(\"Você escolheu excluir um contato.\")\n",
    "    if not contatos:\n",
    "        print(\"Nenhum contato cadastrado para excluir.\")\n",
    "    else:\n",
    "        for i, (nome, telefone, email) in enumerate(contatos, start=1):\n",
    "            print(f\"{i}. Nome: {nome}, Telefone: {telefone}, Email: {email}\")\n",
    "        indice = int(input(\"Digite o número do contato que deseja excluir: \")) - 1\n",
    "        if 0 <= indice < len(contatos):\n",
    "            contato_excluido = contatos.pop(indice)\n",
    "            print(f\"Contato {contato_excluido[0]} excluído com sucesso.\")\n",
    "        else:\n",
    "            print(\"Índice inválido.\")"
   ]
  }
 ],
 "metadata": {
  "kernelspec": {
   "display_name": "Python 3",
   "language": "python",
   "name": "python3"
  },
  "language_info": {
   "codemirror_mode": {
    "name": "ipython",
    "version": 3
   },
   "file_extension": ".py",
   "mimetype": "text/x-python",
   "name": "python",
   "nbconvert_exporter": "python",
   "pygments_lexer": "ipython3",
   "version": "3.12.10"
  }
 },
 "nbformat": 4,
 "nbformat_minor": 5
}
